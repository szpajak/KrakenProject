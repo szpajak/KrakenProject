{
 "cells": [
  {
   "cell_type": "code",
   "execution_count": null,
   "id": "4fb6e643",
   "metadata": {
    "vscode": {
     "languageId": "plaintext"
    }
   },
   "outputs": [],
   "source": [
    "import fitz\n",
    "import re\n",
    "import pandas as pd\n",
    "import google.generativeai as genai\n",
    "import os"
   ]
  },
  {
   "cell_type": "code",
   "execution_count": null,
   "id": "8a326a7f",
   "metadata": {
    "vscode": {
     "languageId": "plaintext"
    }
   },
   "outputs": [],
   "source": [
    "# Step 1: Extract text from PDF\n",
    "def extract_pdf_text(path: str) -> str:\n",
    "    doc = fitz.open(path)\n",
    "    full_text = \"\"\n",
    "    for page in doc:\n",
    "        full_text += page.get_text()\n",
    "    return full_text\n",
    "\n",
    "# Step 2: Parse text into structured chunks with title\n",
    "def parse_into_chunks(full_text: str):\n",
    "    # Split by § section\n",
    "    sections = re.split(r'(?=§\\s*\\d+\\.\\s+)', full_text)\n",
    "    data = []\n",
    "\n",
    "    for section in sections:\n",
    "        section = section.strip()\n",
    "        if not section:\n",
    "            continue\n",
    "\n",
    "        # Extract § number and title, e.g., § 2. GENERAL REGULATIONS\n",
    "        header_match = re.match(r'§\\s*(\\d+)\\.\\s*(.+)', section)\n",
    "        if not header_match:\n",
    "            continue\n",
    "\n",
    "        base_number = header_match.group(1)\n",
    "        title = header_match.group(2).strip()\n",
    "        base_ref = f\"§{base_number}\"\n",
    "\n",
    "        # Remove the title line before parsing points\n",
    "        body_text = section[len(header_match.group(0)):].strip()\n",
    "\n",
    "        # Split into numbered points like 1., 2., 3a.\n",
    "        points = re.split(r'\\n(?=\\d+[a-zA-Z]?\\.)', body_text)\n",
    "\n",
    "        for point in points:\n",
    "            point = point.strip()\n",
    "            submatch = re.match(r'(\\d+[a-zA-Z]?)\\.', point)\n",
    "            if submatch:\n",
    "                subref = submatch.group(1)\n",
    "                ref = f\"{base_ref}({subref})\"\n",
    "                content = point[len(subref) + 1:].strip()\n",
    "                data.append((ref, title, content))\n",
    "\n",
    "    return pd.DataFrame(data, columns=[\"reference\", \"title\", \"content\"])"
   ]
  },
  {
   "cell_type": "code",
   "execution_count": null,
   "id": "ca4e91cb",
   "metadata": {
    "vscode": {
     "languageId": "plaintext"
    }
   },
   "outputs": [],
   "source": [
    "pdf_path = \"data/2023_10_01_RS_ENG.pdf\"\n",
    "\n",
    "text = extract_pdf_text(pdf_path)\n",
    "df = parse_into_chunks(text)"
   ]
  },
  {
   "cell_type": "code",
   "execution_count": null,
   "id": "d50b4b6f",
   "metadata": {
    "vscode": {
     "languageId": "plaintext"
    }
   },
   "outputs": [],
   "source": [
    "df = df[df['content'] != '']"
   ]
  },
  {
   "cell_type": "code",
   "execution_count": null,
   "id": "9d93b9c0",
   "metadata": {
    "vscode": {
     "languageId": "plaintext"
    }
   },
   "outputs": [],
   "source": [
    "df[\"chunk\"] = df.apply(lambda row: f\"{row['reference']} - {row['title']}: {row['content']}\", axis=1)"
   ]
  },
  {
   "cell_type": "code",
   "execution_count": null,
   "id": "9f5a8b82",
   "metadata": {
    "vscode": {
     "languageId": "plaintext"
    }
   },
   "outputs": [],
   "source": [
    "df"
   ]
  }
 ],
 "metadata": {
  "language_info": {
   "name": "python"
  }
 },
 "nbformat": 4,
 "nbformat_minor": 5
}
